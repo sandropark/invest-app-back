{
 "cells": [
  {
   "cell_type": "code",
   "execution_count": 2,
   "metadata": {},
   "outputs": [
    {
     "data": {
      "text/plain": [
       "['KRW-XRP',\n",
       " 'KRW-BTC',\n",
       " 'KRW-ONDO',\n",
       " 'KRW-SOL',\n",
       " 'KRW-MOCA',\n",
       " 'KRW-MOVE',\n",
       " 'KRW-USDT',\n",
       " 'KRW-DOGE',\n",
       " 'KRW-JUP',\n",
       " 'KRW-ETH']"
      ]
     },
     "execution_count": 2,
     "metadata": {},
     "output_type": "execute_result"
    }
   ],
   "source": [
    "from src.common.domain import stock_util\n",
    "\n",
    "stock_util.get_top_trade_volume_coin_list(\"day\", 10)"
   ]
  },
  {
   "cell_type": "code",
   "execution_count": 8,
   "metadata": {},
   "outputs": [
    {
     "data": {
      "text/plain": [
       "155"
      ]
     },
     "execution_count": 8,
     "metadata": {},
     "output_type": "execute_result"
    }
   ],
   "source": [
    "import pyupbit as pu\n",
    "\n",
    "tickers = pu.get_tickers(\"KRW\")\n",
    "len(tickers)"
   ]
  }
 ],
 "metadata": {
  "kernelspec": {
   "display_name": ".venv",
   "language": "python",
   "name": "python3"
  },
  "language_info": {
   "codemirror_mode": {
    "name": "ipython",
    "version": 3
   },
   "file_extension": ".py",
   "mimetype": "text/x-python",
   "name": "python",
   "nbconvert_exporter": "python",
   "pygments_lexer": "ipython3",
   "version": "3.13.1"
  }
 },
 "nbformat": 4,
 "nbformat_minor": 2
}
